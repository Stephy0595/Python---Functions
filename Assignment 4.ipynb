{
 "cells": [
  {
   "cell_type": "code",
   "execution_count": 3,
   "id": "32540c0c-92a6-4d9a-aea3-606471cab709",
   "metadata": {},
   "outputs": [
    {
     "name": "stdout",
     "output_type": "stream",
     "text": [
      "Length is:  5\n"
     ]
    }
   ],
   "source": [
    "# 1) Len()\n",
    "#The len() function in Python is used to determine the number of items in an object.\n",
    "#This could be the number of elements in a list, the number of characters in a string or the number of keys in a dictionary. \n",
    "\n",
    "l = [10, 20, 30, 40, 50]\n",
    "length = len(l)\n",
    "print(\"Length is: \",length)"
   ]
  },
  {
   "cell_type": "code",
   "execution_count": 4,
   "id": "6e124600-3d6d-4c1d-967a-490607d96f1d",
   "metadata": {},
   "outputs": [
    {
     "name": "stdin",
     "output_type": "stream",
     "text": [
      "Enter your name:  Stephy\n"
     ]
    },
    {
     "name": "stdout",
     "output_type": "stream",
     "text": [
      "Hello Stephy\n"
     ]
    }
   ],
   "source": [
    "#2) Greet()\n",
    "def greet():\n",
    "    name=input(\"Enter your name: \")\n",
    "    print(\"Hello\", name)  \n",
    "greet()"
   ]
  },
  {
   "cell_type": "code",
   "execution_count": 5,
   "id": "177e7a7e-5a35-4856-85b7-18d80660a20e",
   "metadata": {},
   "outputs": [
    {
     "name": "stdout",
     "output_type": "stream",
     "text": [
      "The maximum value is: 7\n"
     ]
    }
   ],
   "source": [
    "# 3) Max()\n",
    "numbers = [3, 1, 7, 2, 5]\n",
    "def find_maximum(numbers):\n",
    "    maximum = numbers[0]\n",
    "    for num in numbers:\n",
    "        if num > maximum:\n",
    "            maximum = num\n",
    "    return maximum\n",
    "result = find_maximum(numbers)\n",
    "print(\"The maximum value is:\", result)\n"
   ]
  },
  {
   "cell_type": "code",
   "execution_count": 6,
   "id": "682159f4-f2d8-4a3a-8250-1a0ca5d2ce21",
   "metadata": {},
   "outputs": [
    {
     "name": "stdout",
     "output_type": "stream",
     "text": [
      "Local variable is: 200\n",
      "Global variable is: 1000\n"
     ]
    }
   ],
   "source": [
    "# 4) Local and global variables\n",
    "# Local Variables:\n",
    "# *Defined inside a function.\n",
    "# *Their scope is limited to the function where they are defined.\n",
    "# *They are created when the function is called and destroyed when the \n",
    "#  function ends.\n",
    "\n",
    "# Global Variables:\n",
    "# *Defined outside all functions and have a global scope.\n",
    "# *Can be accessed and modified inside a function using the global keyword.\n",
    "# *They exist throughout the program's execution.\n",
    "\n",
    "a = 1000 # global variable\n",
    "\n",
    "def verify():\n",
    "    a = 200 # local variable\n",
    "    print(\"Local variable is:\", a)\n",
    "\n",
    "verify()\n",
    "\n",
    "print(\"Global variable is:\", a)\n"
   ]
  },
  {
   "cell_type": "code",
   "execution_count": 7,
   "id": "906ab9fe-58a3-4db7-8d54-4daabd91f9d8",
   "metadata": {},
   "outputs": [
    {
     "name": "stdout",
     "output_type": "stream",
     "text": [
      "Area with both length and width given: 150\n",
      "Area with only length given:  250\n"
     ]
    }
   ],
   "source": [
    "# 5) Area()\n",
    "def calculate_area(length, width=5):\n",
    "    return length * width\n",
    "\n",
    "area_with_width = calculate_area(50,3)\n",
    "print(\"Area with both length and width given:\", area_with_width)\n",
    "\n",
    "area_without_width = calculate_area(50)\n",
    "print(\"Area with only length given: \", area_without_width)"
   ]
  },
  {
   "cell_type": "code",
   "execution_count": null,
   "id": "48b63726-7118-4c99-8693-430130908418",
   "metadata": {},
   "outputs": [],
   "source": []
  }
 ],
 "metadata": {
  "kernelspec": {
   "display_name": "Python 3 (ipykernel)",
   "language": "python",
   "name": "python3"
  },
  "language_info": {
   "codemirror_mode": {
    "name": "ipython",
    "version": 3
   },
   "file_extension": ".py",
   "mimetype": "text/x-python",
   "name": "python",
   "nbconvert_exporter": "python",
   "pygments_lexer": "ipython3",
   "version": "3.12.7"
  }
 },
 "nbformat": 4,
 "nbformat_minor": 5
}
